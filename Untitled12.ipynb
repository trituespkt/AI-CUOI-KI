{
  "cells": [
    {
      "cell_type": "markdown",
      "metadata": {
        "id": "view-in-github",
        "colab_type": "text"
      },
      "source": [
        "<a href=\"https://colab.research.google.com/github/trituespkt/AI-CUOI-KI/blob/main/Untitled12.ipynb\" target=\"_parent\"><img src=\"https://colab.research.google.com/assets/colab-badge.svg\" alt=\"Open In Colab\"/></a>"
      ]
    },
    {
      "cell_type": "code",
      "execution_count": null,
      "metadata": {
        "id": "o6nDZKhCwbtC"
      },
      "outputs": [],
      "source": [
        "from sklearn.model_selection import train_test_split\n",
        "import matplotlib.pyplot as plt\n",
        "import os\n",
        "import numpy as np\n",
        "import tensorflow as tf\n",
        "from keras.utils import np_utils\n",
        "from keras.models import Sequential\n",
        "from keras.layers import Dense, Activation, Dropout, Conv2D, MaxPooling2D, Flatten\n",
        "from tensorflow.keras.optimizers import SGD, RMSprop\n",
        "from keras.callbacks import EarlyStopping, ModelCheckpoint\n",
        "from sklearn.utils import validation \n",
        "from sklearn import preprocessing\n",
        "from tensorflow.keras.utils import to_categorical\n",
        "from tensorflow.keras.models import load_model\n",
        "from tensorflow.keras.utils import load_img, img_to_array\n",
        "from tensorflow.keras.preprocessing.image import ImageDataGenerator"
      ]
    },
    {
      "cell_type": "code",
      "execution_count": null,
      "metadata": {
        "colab": {
          "base_uri": "https://localhost:8080/"
        },
        "id": "_ec2G5CBwgku",
        "outputId": "dd4f0c51-4678-4f2c-83b0-386a2b68a611"
      },
      "outputs": [
        {
          "output_type": "stream",
          "name": "stdout",
          "text": [
            "Mounted at /content/drive\n"
          ]
        }
      ],
      "source": [
        "from google.colab import drive\n",
        "drive.mount('/content/drive')"
      ]
    },
    {
      "cell_type": "code",
      "execution_count": null,
      "metadata": {
        "id": "4_MQBxy_wk73"
      },
      "outputs": [],
      "source": [
        "train_datagen = ImageDataGenerator(rescale=1./255, shear_range=0.2, zoom_range=0.2, horizontal_flip=True)\n",
        "val_datagen = ImageDataGenerator(rescale=1./255)"
      ]
    },
    {
      "cell_type": "code",
      "execution_count": null,
      "metadata": {
        "colab": {
          "base_uri": "https://localhost:8080/"
        },
        "id": "ZkTtfEt7wpWt",
        "outputId": "1e702b3a-f632-4642-c8d0-240f3b097b69"
      },
      "outputs": [
        {
          "output_type": "stream",
          "name": "stdout",
          "text": [
            "Found 827 images belonging to 15 classes.\n"
          ]
        }
      ],
      "source": [
        "training_set = train_datagen.flow_from_directory('/content/drive/My Drive/Colab Notebooks/PROJECT CUOI KI/Train', target_size=(150,150), batch_size=32, class_mode='categorical')"
      ]
    },
    {
      "cell_type": "code",
      "execution_count": null,
      "metadata": {
        "colab": {
          "base_uri": "https://localhost:8080/"
        },
        "id": "Pfd2qWGEw5kI",
        "outputId": "3ce47f9a-7303-4f86-cb61-80c6c0368164"
      },
      "outputs": [
        {
          "output_type": "stream",
          "name": "stdout",
          "text": [
            "Found 827 images belonging to 15 classes.\n"
          ]
        }
      ],
      "source": [
        "val_set = val_datagen.flow_from_directory('/content/drive/MyDrive/Colab Notebooks/PROJECT CUOI KI/Test', target_size=(150,150), batch_size=32, class_mode='categorical')"
      ]
    },
    {
      "cell_type": "code",
      "execution_count": null,
      "metadata": {
        "colab": {
          "base_uri": "https://localhost:8080/"
        },
        "id": "TiuT8usCw7UX",
        "outputId": "0b41d80f-fea9-48af-e9e2-502c5fda8a80"
      },
      "outputs": [
        {
          "output_type": "execute_result",
          "data": {
            "text/plain": [
              "{'Cong chieng': 0,\n",
              " 'Dan Da': 1,\n",
              " \"Dan T'rung\": 2,\n",
              " 'Dan Tam': 3,\n",
              " 'Dan Tranh': 4,\n",
              " 'Dan bau': 5,\n",
              " 'Dan gao': 6,\n",
              " 'Khen': 7,\n",
              " 'Sáo trúc': 8,\n",
              " 'dan sen': 9,\n",
              " 'Đàn Nhị': 10,\n",
              " 'Đàn nguyệt': 11,\n",
              " 'Đàn tam thập lục': 12,\n",
              " 'Đàn tì bà': 13,\n",
              " 'Đàn Đáy': 14}"
            ]
          },
          "metadata": {},
          "execution_count": 6
        }
      ],
      "source": [
        "training_set.class_indices"
      ]
    },
    {
      "cell_type": "code",
      "execution_count": null,
      "metadata": {
        "colab": {
          "base_uri": "https://localhost:8080/"
        },
        "id": "UdM9RNlcw-ei",
        "outputId": "43e3f32e-e062-4d40-a89d-cbb90ed7dc43"
      },
      "outputs": [
        {
          "output_type": "execute_result",
          "data": {
            "text/plain": [
              "{'Cong chieng': 0,\n",
              " 'Dan Da': 1,\n",
              " \"Dan T'rung\": 2,\n",
              " 'Dan Tam': 3,\n",
              " 'Dan Tranh': 4,\n",
              " 'Dan bau': 5,\n",
              " 'Dan gao': 6,\n",
              " 'Khen': 7,\n",
              " 'Sáo trúc': 8,\n",
              " 'dan sen': 9,\n",
              " 'Đàn Nhị': 10,\n",
              " 'Đàn nguyệt': 11,\n",
              " 'Đàn tam thập lục': 12,\n",
              " 'Đàn tì bà': 13,\n",
              " 'Đàn Đáy': 14}"
            ]
          },
          "metadata": {},
          "execution_count": 7
        }
      ],
      "source": [
        "val_set.class_indices"
      ]
    },
    {
      "cell_type": "code",
      "execution_count": null,
      "metadata": {
        "colab": {
          "base_uri": "https://localhost:8080/"
        },
        "id": "abQpeaIHxEAT",
        "outputId": "a151acd4-68f0-45bc-ac2a-f708729a1085"
      },
      "outputs": [
        {
          "output_type": "stream",
          "name": "stdout",
          "text": [
            "Model: \"sequential\"\n",
            "_________________________________________________________________\n",
            " Layer (type)                Output Shape              Param #   \n",
            "=================================================================\n",
            " conv2d (Conv2D)             (None, 150, 150, 32)      896       \n",
            "                                                                 \n",
            " conv2d_1 (Conv2D)           (None, 150, 150, 32)      9248      \n",
            "                                                                 \n",
            " max_pooling2d (MaxPooling2D  (None, 75, 75, 32)       0         \n",
            " )                                                               \n",
            "                                                                 \n",
            " conv2d_2 (Conv2D)           (None, 75, 75, 64)        18496     \n",
            "                                                                 \n",
            " conv2d_3 (Conv2D)           (None, 75, 75, 64)        36928     \n",
            "                                                                 \n",
            " max_pooling2d_1 (MaxPooling  (None, 37, 37, 64)       0         \n",
            " 2D)                                                             \n",
            "                                                                 \n",
            " conv2d_4 (Conv2D)           (None, 37, 37, 128)       73856     \n",
            "                                                                 \n",
            " conv2d_5 (Conv2D)           (None, 37, 37, 128)       147584    \n",
            "                                                                 \n",
            " max_pooling2d_2 (MaxPooling  (None, 18, 18, 128)      0         \n",
            " 2D)                                                             \n",
            "                                                                 \n",
            " flatten (Flatten)           (None, 41472)             0         \n",
            "                                                                 \n",
            " dense (Dense)               (None, 128)               5308544   \n",
            "                                                                 \n",
            " dropout (Dropout)           (None, 128)               0         \n",
            "                                                                 \n",
            " dense_1 (Dense)             (None, 15)                1935      \n",
            "                                                                 \n",
            "=================================================================\n",
            "Total params: 5,597,487\n",
            "Trainable params: 5,597,487\n",
            "Non-trainable params: 0\n",
            "_________________________________________________________________\n"
          ]
        }
      ],
      "source": [
        "# Tạo ra mạng CNN để train mô hình\n",
        "model=Sequential()\n",
        "\n",
        "model.add(Conv2D(32,(3,3), activation='relu', kernel_initializer='he_uniform', padding='same',input_shape=(150,150,3))) \n",
        "model.add(Conv2D(32,(3,3), activation='relu', kernel_initializer='he_uniform', padding='same'))\n",
        "model.add(MaxPooling2D(2,2))\n",
        "model.add(Conv2D(64,(3,3), activation='relu', kernel_initializer='he_uniform', padding='same',input_shape=(150,150,3))) \n",
        "model.add(Conv2D(64,(3,3), activation='relu', kernel_initializer='he_uniform', padding='same'))\n",
        "model.add(MaxPooling2D(2,2))\n",
        "model.add(Conv2D(128,(3,3), activation='relu', kernel_initializer='he_uniform', padding='same',input_shape=(150,150,3))) \n",
        "model.add(Conv2D(128,(3,3), activation='relu', kernel_initializer='he_uniform', padding='same'))\n",
        "model.add(MaxPooling2D(2,2))\n",
        "model.add(Flatten())\n",
        "model.add(Dense(128,activation='relu',kernel_initializer='he_uniform'))\n",
        "model.add(Dropout(0.2))\n",
        "model.add(Dense(15,activation='softmax'))\n",
        "model.summary()"
      ]
    },
    {
      "cell_type": "code",
      "execution_count": null,
      "metadata": {
        "colab": {
          "base_uri": "https://localhost:8080/"
        },
        "id": "b3T2GSrnxE4k",
        "outputId": "21aeeb13-438f-477b-bc96-f8791544e7bb"
      },
      "outputs": [
        {
          "output_type": "stream",
          "name": "stdout",
          "text": [
            "Epoch 1/100\n",
            "26/26 [==============================] - 88s 3s/step - loss: 2.7007 - accuracy: 0.0859 - val_loss: 2.6558 - val_accuracy: 0.1221\n",
            "Epoch 2/100\n",
            "26/26 [==============================] - 15s 585ms/step - loss: 2.6265 - accuracy: 0.1233 - val_loss: 2.4594 - val_accuracy: 0.1705\n",
            "Epoch 3/100\n",
            "26/26 [==============================] - 15s 592ms/step - loss: 2.4528 - accuracy: 0.1995 - val_loss: 2.2790 - val_accuracy: 0.2455\n",
            "Epoch 4/100\n",
            "26/26 [==============================] - 15s 594ms/step - loss: 2.3049 - accuracy: 0.2551 - val_loss: 2.1520 - val_accuracy: 0.2817\n",
            "Epoch 5/100\n",
            "26/26 [==============================] - 19s 717ms/step - loss: 2.2554 - accuracy: 0.2479 - val_loss: 1.9895 - val_accuracy: 0.3591\n",
            "Epoch 6/100\n",
            "26/26 [==============================] - 15s 584ms/step - loss: 2.1092 - accuracy: 0.2950 - val_loss: 1.8014 - val_accuracy: 0.4716\n",
            "Epoch 7/100\n",
            "26/26 [==============================] - 16s 608ms/step - loss: 1.9076 - accuracy: 0.3652 - val_loss: 1.5607 - val_accuracy: 0.5200\n",
            "Epoch 8/100\n",
            "26/26 [==============================] - 15s 599ms/step - loss: 1.8099 - accuracy: 0.4256 - val_loss: 1.3628 - val_accuracy: 0.5961\n",
            "Epoch 9/100\n",
            "26/26 [==============================] - 15s 593ms/step - loss: 1.6496 - accuracy: 0.4498 - val_loss: 1.1962 - val_accuracy: 0.6542\n",
            "Epoch 10/100\n",
            "26/26 [==============================] - 16s 626ms/step - loss: 1.4985 - accuracy: 0.5115 - val_loss: 1.0209 - val_accuracy: 0.7037\n",
            "Epoch 11/100\n",
            "26/26 [==============================] - 15s 576ms/step - loss: 1.3800 - accuracy: 0.5780 - val_loss: 0.8789 - val_accuracy: 0.7594\n",
            "Epoch 12/100\n",
            "26/26 [==============================] - 15s 579ms/step - loss: 1.3643 - accuracy: 0.5852 - val_loss: 0.8776 - val_accuracy: 0.7243\n",
            "Epoch 13/100\n",
            "26/26 [==============================] - 15s 587ms/step - loss: 1.2125 - accuracy: 0.6143 - val_loss: 0.7034 - val_accuracy: 0.7981\n",
            "Epoch 14/100\n",
            "26/26 [==============================] - 15s 584ms/step - loss: 1.1521 - accuracy: 0.6409 - val_loss: 0.6148 - val_accuracy: 0.8174\n",
            "Epoch 15/100\n",
            "26/26 [==============================] - 15s 580ms/step - loss: 0.9752 - accuracy: 0.6675 - val_loss: 0.5462 - val_accuracy: 0.8392\n",
            "Epoch 16/100\n",
            "26/26 [==============================] - 15s 579ms/step - loss: 0.9447 - accuracy: 0.6844 - val_loss: 0.4641 - val_accuracy: 0.8573\n",
            "Epoch 17/100\n",
            "26/26 [==============================] - 15s 585ms/step - loss: 0.8971 - accuracy: 0.7001 - val_loss: 0.4706 - val_accuracy: 0.8585\n",
            "Epoch 18/100\n",
            "26/26 [==============================] - 15s 579ms/step - loss: 0.8301 - accuracy: 0.7279 - val_loss: 0.3731 - val_accuracy: 0.8948\n",
            "Epoch 19/100\n",
            "26/26 [==============================] - 15s 583ms/step - loss: 0.8126 - accuracy: 0.7449 - val_loss: 0.3773 - val_accuracy: 0.8948\n",
            "Epoch 20/100\n",
            "26/26 [==============================] - 16s 603ms/step - loss: 0.7229 - accuracy: 0.7763 - val_loss: 0.2478 - val_accuracy: 0.9456\n",
            "Epoch 21/100\n",
            "26/26 [==============================] - 16s 598ms/step - loss: 0.6191 - accuracy: 0.8089 - val_loss: 0.2127 - val_accuracy: 0.9528\n",
            "Epoch 22/100\n",
            "26/26 [==============================] - 15s 585ms/step - loss: 0.6105 - accuracy: 0.7908 - val_loss: 0.2319 - val_accuracy: 0.9420\n",
            "Epoch 23/100\n",
            "26/26 [==============================] - 15s 582ms/step - loss: 0.5725 - accuracy: 0.8235 - val_loss: 0.1983 - val_accuracy: 0.9383\n",
            "Epoch 24/100\n",
            "26/26 [==============================] - 15s 585ms/step - loss: 0.6098 - accuracy: 0.7944 - val_loss: 0.1970 - val_accuracy: 0.9407\n",
            "Epoch 25/100\n",
            "26/26 [==============================] - 15s 586ms/step - loss: 0.5378 - accuracy: 0.8331 - val_loss: 0.1781 - val_accuracy: 0.9504\n",
            "Epoch 26/100\n",
            "26/26 [==============================] - 15s 578ms/step - loss: 0.5091 - accuracy: 0.8259 - val_loss: 0.2478 - val_accuracy: 0.9190\n",
            "Epoch 27/100\n",
            "26/26 [==============================] - 15s 578ms/step - loss: 0.5416 - accuracy: 0.8368 - val_loss: 0.2908 - val_accuracy: 0.9250\n",
            "Epoch 28/100\n",
            "26/26 [==============================] - 15s 593ms/step - loss: 0.5679 - accuracy: 0.8247 - val_loss: 0.1320 - val_accuracy: 0.9770\n",
            "Epoch 29/100\n",
            "26/26 [==============================] - 15s 590ms/step - loss: 0.4534 - accuracy: 0.8682 - val_loss: 0.0909 - val_accuracy: 0.9807\n",
            "Epoch 30/100\n",
            "26/26 [==============================] - 15s 593ms/step - loss: 0.3618 - accuracy: 0.8839 - val_loss: 0.0745 - val_accuracy: 0.9807\n",
            "Epoch 31/100\n",
            "26/26 [==============================] - 16s 629ms/step - loss: 0.4114 - accuracy: 0.8694 - val_loss: 0.1160 - val_accuracy: 0.9746\n",
            "Epoch 32/100\n",
            "26/26 [==============================] - 15s 583ms/step - loss: 0.3721 - accuracy: 0.8827 - val_loss: 0.0740 - val_accuracy: 0.9794\n",
            "Epoch 33/100\n",
            "26/26 [==============================] - 15s 591ms/step - loss: 0.3194 - accuracy: 0.8984 - val_loss: 0.0375 - val_accuracy: 0.9915\n",
            "Epoch 34/100\n",
            "26/26 [==============================] - 15s 586ms/step - loss: 0.3507 - accuracy: 0.8888 - val_loss: 0.0516 - val_accuracy: 0.9927\n",
            "Epoch 35/100\n",
            "26/26 [==============================] - 15s 580ms/step - loss: 0.3248 - accuracy: 0.8863 - val_loss: 0.0539 - val_accuracy: 0.9855\n",
            "Epoch 36/100\n",
            "26/26 [==============================] - 15s 583ms/step - loss: 0.3294 - accuracy: 0.8863 - val_loss: 0.0782 - val_accuracy: 0.9831\n",
            "Epoch 37/100\n",
            "26/26 [==============================] - 15s 583ms/step - loss: 0.3522 - accuracy: 0.8875 - val_loss: 0.0544 - val_accuracy: 0.9879\n",
            "Epoch 38/100\n",
            "26/26 [==============================] - 15s 575ms/step - loss: 0.3152 - accuracy: 0.8912 - val_loss: 0.0724 - val_accuracy: 0.9819\n",
            "Epoch 39/100\n",
            "26/26 [==============================] - 15s 583ms/step - loss: 0.2236 - accuracy: 0.9287 - val_loss: 0.0389 - val_accuracy: 0.9891\n",
            "Epoch 40/100\n",
            "26/26 [==============================] - 15s 585ms/step - loss: 0.2614 - accuracy: 0.9129 - val_loss: 0.0559 - val_accuracy: 0.9867\n",
            "Epoch 41/100\n",
            "26/26 [==============================] - 15s 581ms/step - loss: 0.2987 - accuracy: 0.9008 - val_loss: 0.0280 - val_accuracy: 0.9952\n",
            "Epoch 42/100\n",
            "26/26 [==============================] - 16s 622ms/step - loss: 0.2436 - accuracy: 0.9335 - val_loss: 0.0299 - val_accuracy: 0.9952\n",
            "Epoch 43/100\n",
            "26/26 [==============================] - 15s 582ms/step - loss: 0.2209 - accuracy: 0.9311 - val_loss: 0.0327 - val_accuracy: 0.9891\n",
            "Epoch 44/100\n",
            "26/26 [==============================] - 15s 582ms/step - loss: 0.2809 - accuracy: 0.9129 - val_loss: 0.0306 - val_accuracy: 0.9964\n",
            "Epoch 45/100\n",
            "26/26 [==============================] - 15s 582ms/step - loss: 0.2246 - accuracy: 0.9226 - val_loss: 0.0300 - val_accuracy: 0.9940\n",
            "Epoch 46/100\n",
            "26/26 [==============================] - 15s 586ms/step - loss: 0.2749 - accuracy: 0.9178 - val_loss: 0.0293 - val_accuracy: 0.9964\n",
            "Epoch 47/100\n",
            "26/26 [==============================] - 15s 580ms/step - loss: 0.2036 - accuracy: 0.9359 - val_loss: 0.0505 - val_accuracy: 0.9794\n",
            "Epoch 48/100\n",
            "26/26 [==============================] - 15s 591ms/step - loss: 0.2066 - accuracy: 0.9274 - val_loss: 0.0278 - val_accuracy: 0.9964\n",
            "Epoch 49/100\n",
            "26/26 [==============================] - 15s 586ms/step - loss: 0.2178 - accuracy: 0.9335 - val_loss: 0.0232 - val_accuracy: 0.9952\n",
            "Epoch 50/100\n",
            "26/26 [==============================] - 15s 578ms/step - loss: 0.2139 - accuracy: 0.9359 - val_loss: 0.0134 - val_accuracy: 0.9988\n",
            "Epoch 51/100\n",
            "26/26 [==============================] - 15s 587ms/step - loss: 0.1823 - accuracy: 0.9432 - val_loss: 0.0142 - val_accuracy: 0.9976\n",
            "Epoch 52/100\n",
            "26/26 [==============================] - 16s 630ms/step - loss: 0.1251 - accuracy: 0.9565 - val_loss: 0.0151 - val_accuracy: 0.9964\n",
            "Epoch 53/100\n",
            "26/26 [==============================] - 15s 581ms/step - loss: 0.1907 - accuracy: 0.9359 - val_loss: 0.0120 - val_accuracy: 0.9952\n",
            "Epoch 54/100\n",
            "26/26 [==============================] - 15s 574ms/step - loss: 0.2018 - accuracy: 0.9335 - val_loss: 0.0119 - val_accuracy: 0.9988\n",
            "Epoch 55/100\n",
            "26/26 [==============================] - 15s 585ms/step - loss: 0.1672 - accuracy: 0.9456 - val_loss: 0.0136 - val_accuracy: 0.9976\n",
            "Epoch 56/100\n",
            "26/26 [==============================] - 15s 583ms/step - loss: 0.1456 - accuracy: 0.9577 - val_loss: 0.0220 - val_accuracy: 0.9964\n",
            "Epoch 57/100\n",
            "26/26 [==============================] - 15s 580ms/step - loss: 0.1742 - accuracy: 0.9456 - val_loss: 0.0213 - val_accuracy: 0.9952\n",
            "Epoch 58/100\n",
            "26/26 [==============================] - 15s 579ms/step - loss: 0.1814 - accuracy: 0.9383 - val_loss: 0.0256 - val_accuracy: 0.9940\n",
            "Epoch 59/100\n",
            "26/26 [==============================] - 15s 583ms/step - loss: 0.1863 - accuracy: 0.9492 - val_loss: 0.0111 - val_accuracy: 0.9964\n",
            "Epoch 60/100\n",
            "26/26 [==============================] - 15s 580ms/step - loss: 0.1651 - accuracy: 0.9420 - val_loss: 0.0158 - val_accuracy: 0.9952\n",
            "Epoch 61/100\n",
            "26/26 [==============================] - 15s 582ms/step - loss: 0.2546 - accuracy: 0.9202 - val_loss: 0.0635 - val_accuracy: 0.9819\n",
            "Epoch 62/100\n",
            "26/26 [==============================] - 16s 622ms/step - loss: 0.2095 - accuracy: 0.9395 - val_loss: 0.0160 - val_accuracy: 0.9964\n",
            "Epoch 63/100\n",
            "26/26 [==============================] - 15s 581ms/step - loss: 0.1691 - accuracy: 0.9480 - val_loss: 0.0174 - val_accuracy: 0.9940\n",
            "Epoch 64/100\n",
            "26/26 [==============================] - 15s 581ms/step - loss: 0.1557 - accuracy: 0.9492 - val_loss: 0.0127 - val_accuracy: 0.9976\n",
            "Epoch 65/100\n",
            "26/26 [==============================] - 15s 585ms/step - loss: 0.1448 - accuracy: 0.9541 - val_loss: 0.0104 - val_accuracy: 0.9964\n",
            "Epoch 66/100\n",
            "26/26 [==============================] - 15s 595ms/step - loss: 0.1512 - accuracy: 0.9504 - val_loss: 0.0126 - val_accuracy: 0.9976\n",
            "Epoch 67/100\n",
            "26/26 [==============================] - 15s 591ms/step - loss: 0.1492 - accuracy: 0.9565 - val_loss: 0.0261 - val_accuracy: 0.9915\n",
            "Epoch 68/100\n",
            "26/26 [==============================] - 15s 596ms/step - loss: 0.2150 - accuracy: 0.9299 - val_loss: 0.0068 - val_accuracy: 0.9988\n",
            "Epoch 69/100\n",
            "26/26 [==============================] - 15s 594ms/step - loss: 0.1323 - accuracy: 0.9565 - val_loss: 0.0238 - val_accuracy: 0.9927\n",
            "Epoch 70/100\n",
            "26/26 [==============================] - 15s 587ms/step - loss: 0.1571 - accuracy: 0.9456 - val_loss: 0.0179 - val_accuracy: 0.9952\n",
            "Epoch 71/100\n",
            "26/26 [==============================] - 15s 591ms/step - loss: 0.1502 - accuracy: 0.9553 - val_loss: 0.0104 - val_accuracy: 0.9976\n",
            "Epoch 72/100\n",
            "26/26 [==============================] - 15s 594ms/step - loss: 0.1272 - accuracy: 0.9649 - val_loss: 0.0051 - val_accuracy: 0.9988\n",
            "Epoch 73/100\n",
            "26/26 [==============================] - 16s 630ms/step - loss: 0.1262 - accuracy: 0.9528 - val_loss: 0.0216 - val_accuracy: 0.9964\n",
            "Epoch 74/100\n",
            "26/26 [==============================] - 15s 582ms/step - loss: 0.1339 - accuracy: 0.9613 - val_loss: 0.0077 - val_accuracy: 0.9976\n",
            "Epoch 75/100\n",
            "26/26 [==============================] - 15s 580ms/step - loss: 0.1672 - accuracy: 0.9528 - val_loss: 0.0154 - val_accuracy: 0.9964\n",
            "Epoch 76/100\n",
            "26/26 [==============================] - 15s 579ms/step - loss: 0.1272 - accuracy: 0.9625 - val_loss: 0.0171 - val_accuracy: 0.9964\n",
            "Epoch 77/100\n",
            "26/26 [==============================] - 15s 581ms/step - loss: 0.0952 - accuracy: 0.9649 - val_loss: 0.0099 - val_accuracy: 0.9940\n",
            "Epoch 78/100\n",
            "26/26 [==============================] - 15s 585ms/step - loss: 0.1664 - accuracy: 0.9565 - val_loss: 0.0233 - val_accuracy: 0.9915\n",
            "Epoch 79/100\n",
            "26/26 [==============================] - 15s 573ms/step - loss: 0.1291 - accuracy: 0.9625 - val_loss: 0.0038 - val_accuracy: 0.9988\n",
            "Epoch 80/100\n",
            "26/26 [==============================] - 15s 579ms/step - loss: 0.1264 - accuracy: 0.9601 - val_loss: 0.0085 - val_accuracy: 0.9964\n",
            "Epoch 81/100\n",
            "26/26 [==============================] - 15s 580ms/step - loss: 0.1194 - accuracy: 0.9637 - val_loss: 0.0102 - val_accuracy: 0.9976\n",
            "Epoch 82/100\n",
            "26/26 [==============================] - 15s 582ms/step - loss: 0.1635 - accuracy: 0.9444 - val_loss: 0.0071 - val_accuracy: 1.0000\n",
            "Epoch 83/100\n",
            "26/26 [==============================] - 16s 626ms/step - loss: 0.1333 - accuracy: 0.9637 - val_loss: 0.0111 - val_accuracy: 0.9964\n",
            "Epoch 84/100\n",
            "26/26 [==============================] - 15s 580ms/step - loss: 0.1162 - accuracy: 0.9601 - val_loss: 0.0110 - val_accuracy: 0.9976\n",
            "Epoch 85/100\n",
            "26/26 [==============================] - 15s 575ms/step - loss: 0.1532 - accuracy: 0.9613 - val_loss: 0.0141 - val_accuracy: 0.9952\n",
            "Epoch 86/100\n",
            "26/26 [==============================] - 15s 582ms/step - loss: 0.1014 - accuracy: 0.9589 - val_loss: 0.0095 - val_accuracy: 0.9976\n",
            "Epoch 87/100\n",
            "26/26 [==============================] - 15s 584ms/step - loss: 0.1048 - accuracy: 0.9686 - val_loss: 0.0073 - val_accuracy: 0.9976\n",
            "Epoch 88/100\n",
            "26/26 [==============================] - 15s 586ms/step - loss: 0.1101 - accuracy: 0.9625 - val_loss: 0.0091 - val_accuracy: 0.9988\n",
            "Epoch 89/100\n",
            "26/26 [==============================] - 15s 584ms/step - loss: 0.1384 - accuracy: 0.9577 - val_loss: 0.0038 - val_accuracy: 1.0000\n",
            "Epoch 90/100\n",
            "26/26 [==============================] - 15s 578ms/step - loss: 0.0839 - accuracy: 0.9794 - val_loss: 0.0023 - val_accuracy: 1.0000\n",
            "Epoch 91/100\n",
            "26/26 [==============================] - 15s 584ms/step - loss: 0.1203 - accuracy: 0.9649 - val_loss: 0.0076 - val_accuracy: 0.9988\n",
            "Epoch 92/100\n",
            "26/26 [==============================] - 15s 578ms/step - loss: 0.1476 - accuracy: 0.9528 - val_loss: 0.0024 - val_accuracy: 1.0000\n",
            "Epoch 93/100\n",
            "26/26 [==============================] - 16s 619ms/step - loss: 0.1061 - accuracy: 0.9674 - val_loss: 0.0084 - val_accuracy: 0.9988\n",
            "Epoch 94/100\n",
            "26/26 [==============================] - 15s 578ms/step - loss: 0.1059 - accuracy: 0.9674 - val_loss: 0.0051 - val_accuracy: 0.9976\n",
            "Epoch 95/100\n",
            "26/26 [==============================] - 15s 580ms/step - loss: 0.1301 - accuracy: 0.9577 - val_loss: 0.0092 - val_accuracy: 0.9964\n",
            "Epoch 96/100\n",
            "26/26 [==============================] - 15s 582ms/step - loss: 0.1573 - accuracy: 0.9541 - val_loss: 0.0402 - val_accuracy: 0.9915\n",
            "Epoch 97/100\n",
            "26/26 [==============================] - 15s 578ms/step - loss: 0.1207 - accuracy: 0.9565 - val_loss: 0.0060 - val_accuracy: 0.9964\n",
            "Epoch 98/100\n",
            "26/26 [==============================] - 15s 580ms/step - loss: 0.1097 - accuracy: 0.9613 - val_loss: 0.0226 - val_accuracy: 0.9976\n",
            "Epoch 99/100\n",
            "26/26 [==============================] - 15s 579ms/step - loss: 0.1230 - accuracy: 0.9601 - val_loss: 0.0073 - val_accuracy: 1.0000\n",
            "Epoch 100/100\n",
            "26/26 [==============================] - 15s 578ms/step - loss: 0.1134 - accuracy: 0.9577 - val_loss: 0.0070 - val_accuracy: 0.9988\n"
          ]
        }
      ],
      "source": [
        "model.compile(optimizer='adam',loss='categorical_crossentropy',metrics=['accuracy'])\n",
        "\n",
        "history=model.fit(training_set,epochs=100,batch_size=128,verbose=1, validation_data=val_set, callbacks=[EarlyStopping(monitor='val_loss', patience=20)])"
      ]
    },
    {
      "cell_type": "code",
      "execution_count": null,
      "metadata": {
        "id": "JG79r-iKvyhC"
      },
      "outputs": [],
      "source": [
        "model.save('nhaccuVNN.h5')"
      ]
    },
    {
      "cell_type": "code",
      "execution_count": null,
      "metadata": {
        "id": "5yCO_zFswF_g"
      },
      "outputs": [],
      "source": [
        "\n",
        "model_tien = load_model('nhaccuVNN.h5')"
      ]
    },
    {
      "cell_type": "code",
      "execution_count": null,
      "metadata": {
        "colab": {
          "base_uri": "https://localhost:8080/"
        },
        "id": "eA94Vb4l7r3z",
        "outputId": "1aa5e273-951b-4602-d405-d5f3a66694a8"
      },
      "outputs": [
        {
          "output_type": "stream",
          "name": "stdout",
          "text": [
            "Train Loss 0.029116831719875336\n",
            "Train Accuracy 0.9927448630332947\n"
          ]
        }
      ],
      "source": [
        "Score=model.evaluate(training_set,verbose=0)\n",
        "print('Train Loss', Score[0])\n",
        "print('Train Accuracy', Score[1])"
      ]
    },
    {
      "cell_type": "code",
      "execution_count": null,
      "metadata": {
        "id": "buv8gSOT7th1",
        "colab": {
          "base_uri": "https://localhost:8080/",
          "height": 321
        },
        "outputId": "b053c9d6-939a-4d84-f0ce-ebf2828439a0"
      },
      "outputs": [
        {
          "output_type": "stream",
          "name": "stdout",
          "text": [
            "1/1 [==============================] - 0s 309ms/step\n",
            "1/1 [==============================] - 0s 78ms/step\n",
            "Đây là ĐÀN: Đàn Đáy\n"
          ]
        },
        {
          "output_type": "display_data",
          "data": {
            "text/plain": [
              "<Figure size 432x288 with 1 Axes>"
            ],
            "image/png": "[encoded data removed]"
          },
          "metadata": {
            "needs_background": "light"
          }
        }
      ],
      "source": [
        "img = load_img('/content/drive/MyDrive/Colab Notebooks/PROJECT CUOI KI/Test/Đàn Đáy/1528515490_50_nhac-cu-minh-phat-(33) (1).jpg',target_size = (150,150))\n",
        "plt.imshow(img)\n",
        "img=img_to_array(img)\n",
        "img=img.astype('float32')\n",
        "img=img/255\n",
        "img=np.expand_dims(img,axis=0)\n",
        "result=model_tien.predict(img)\n",
        "class_nhaccu=['Cồng Chiêng',\n",
        "        'Dàn Gáo',\n",
        "        'Khèn',\n",
        "        'Sáo Trúc',\n",
        "        'Đàn Bầu',\n",
        "        'Đàn Nguyệt',\n",
        "        'Đàn Nhị - Đàn Cò',\n",
        "        'Đàn Sến',\n",
        "        \"Đàn T' Rưng\",\n",
        "        'Đàn Tam',\n",
        "        'Đàn Tam Thập Lục',\n",
        "        'Đàn Tranh',\n",
        "        'Đàn Tỳ Bà',\n",
        "        'Đàn Đá',\n",
        "        'Đàn Đáy',\n",
        "        'Đàn Đoản']\n",
        "a= int(np.argmax(model.predict(img),axis=1))\n",
        "print(\"Đây là ĐÀN:\", class_nhaccu[a])"
      ]
    }
  ],
  "metadata": {
    "accelerator": "GPU",
    "colab": {
      "provenance": [],
      "authorship_tag": "ABX9TyM0QRjxoZUFgCWiIapFcz4i",
      "include_colab_link": true
    },
    "gpuClass": "standard",
    "kernelspec": {
      "display_name": "Python 3",
      "name": "python3"
    },
    "language_info": {
      "name": "python"
    }
  },
  "nbformat": 4,
  "nbformat_minor": 0
}